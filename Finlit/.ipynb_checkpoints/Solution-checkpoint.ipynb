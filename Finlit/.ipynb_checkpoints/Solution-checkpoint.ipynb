{
 "cells": [
  {
   "cell_type": "markdown",
   "metadata": {},
   "source": [
    "# Assignment 3: Working with Data"
   ]
  },
  {
   "cell_type": "markdown",
   "metadata": {},
   "source": [
    "## Reading Data"
   ]
  },
  {
   "cell_type": "code",
   "execution_count": 1,
   "metadata": {},
   "outputs": [],
   "source": [
    "import pandas as pd\n",
    "import numpy as np\n",
    "from matplotlib import pyplot as plt"
   ]
  },
  {
   "cell_type": "code",
   "execution_count": 2,
   "metadata": {},
   "outputs": [],
   "source": [
    "file = 'survey.dta'"
   ]
  },
  {
   "cell_type": "code",
   "execution_count": 3,
   "metadata": {},
   "outputs": [],
   "source": [
    "df = pd.read_stata(file,convert_categoricals=False)"
   ]
  },
  {
   "cell_type": "markdown",
   "metadata": {},
   "source": [
    "## Question 1 and 2"
   ]
  },
  {
   "cell_type": "code",
   "execution_count": 4,
   "metadata": {},
   "outputs": [],
   "source": [
    "qs = ['csa29','csa30','csa31']\n",
    "answers = [1,3,2]\n",
    "for i,q in enumerate(qs):\n",
    "    df[q+'_correct'] = np.where(df[q]==answers[i],1,0)\n",
    "    df[q+'_dnk'] = np.where(df[q]==98,1,0)\n"
   ]
  },
  {
   "cell_type": "code",
   "execution_count": 5,
   "metadata": {},
   "outputs": [],
   "source": [
    "qs_c = [q+'_correct' for q in qs]\n"
   ]
  },
  {
   "cell_type": "code",
   "execution_count": 6,
   "metadata": {},
   "outputs": [
    {
     "data": {
      "text/html": [
       "<div>\n",
       "<style scoped>\n",
       "    .dataframe tbody tr th:only-of-type {\n",
       "        vertical-align: middle;\n",
       "    }\n",
       "\n",
       "    .dataframe tbody tr th {\n",
       "        vertical-align: top;\n",
       "    }\n",
       "\n",
       "    .dataframe thead th {\n",
       "        text-align: right;\n",
       "    }\n",
       "</style>\n",
       "<table border=\"1\" class=\"dataframe\">\n",
       "  <thead>\n",
       "    <tr style=\"text-align: right;\">\n",
       "      <th></th>\n",
       "      <th>18-24</th>\n",
       "      <th>25-34</th>\n",
       "      <th>35-44</th>\n",
       "      <th>45-54</th>\n",
       "      <th>55-64</th>\n",
       "      <th>65+</th>\n",
       "    </tr>\n",
       "  </thead>\n",
       "  <tbody>\n",
       "    <tr>\n",
       "      <th>interest</th>\n",
       "      <td>0.701</td>\n",
       "      <td>0.775</td>\n",
       "      <td>0.799</td>\n",
       "      <td>0.808</td>\n",
       "      <td>0.836</td>\n",
       "      <td>0.841</td>\n",
       "    </tr>\n",
       "    <tr>\n",
       "      <th>ppp</th>\n",
       "      <td>0.376</td>\n",
       "      <td>0.533</td>\n",
       "      <td>0.631</td>\n",
       "      <td>0.699</td>\n",
       "      <td>0.794</td>\n",
       "      <td>0.818</td>\n",
       "    </tr>\n",
       "    <tr>\n",
       "      <th>diversification</th>\n",
       "      <td>0.417</td>\n",
       "      <td>0.567</td>\n",
       "      <td>0.624</td>\n",
       "      <td>0.637</td>\n",
       "      <td>0.686</td>\n",
       "      <td>0.662</td>\n",
       "    </tr>\n",
       "  </tbody>\n",
       "</table>\n",
       "</div>"
      ],
      "text/plain": [
       "                 18-24  25-34  35-44  45-54  55-64    65+\n",
       "interest         0.701  0.775  0.799  0.808  0.836  0.841\n",
       "ppp              0.376  0.533  0.631  0.699  0.794  0.818\n",
       "diversification  0.417  0.567  0.624  0.637  0.686  0.662"
      ]
     },
     "execution_count": 6,
     "metadata": {},
     "output_type": "execute_result"
    }
   ],
   "source": [
    "tab = df[qs_c].groupby(df['age']).mean().transpose().round(3)\n",
    "labels = ['interest','ppp','diversification']\n",
    "tab.index = labels\n",
    "tab.columns = ['18-24','25-34','35-44','45-54','55-64','65+']\n",
    "tab"
   ]
  },
  {
   "cell_type": "markdown",
   "metadata": {},
   "source": [
    "The fraction of correct answers generally incureases with age, consistent with accumulation of knowledge. There is no evidence that it goes down with age (inverse U). "
   ]
  },
  {
   "cell_type": "markdown",
   "metadata": {},
   "source": [
    "## Question 3 and 4"
   ]
  },
  {
   "cell_type": "code",
   "execution_count": 7,
   "metadata": {},
   "outputs": [
    {
     "data": {
      "text/html": [
       "<div>\n",
       "<style scoped>\n",
       "    .dataframe tbody tr th:only-of-type {\n",
       "        vertical-align: middle;\n",
       "    }\n",
       "\n",
       "    .dataframe tbody tr th {\n",
       "        vertical-align: top;\n",
       "    }\n",
       "\n",
       "    .dataframe thead th {\n",
       "        text-align: right;\n",
       "    }\n",
       "</style>\n",
       "<table border=\"1\" class=\"dataframe\">\n",
       "  <thead>\n",
       "    <tr style=\"text-align: right;\">\n",
       "      <th></th>\n",
       "      <th>male</th>\n",
       "      <th>female</th>\n",
       "    </tr>\n",
       "  </thead>\n",
       "  <tbody>\n",
       "    <tr>\n",
       "      <th>interest</th>\n",
       "      <td>0.854</td>\n",
       "      <td>0.756</td>\n",
       "    </tr>\n",
       "    <tr>\n",
       "      <th>ppp</th>\n",
       "      <td>0.764</td>\n",
       "      <td>0.605</td>\n",
       "    </tr>\n",
       "    <tr>\n",
       "      <th>diversification</th>\n",
       "      <td>0.705</td>\n",
       "      <td>0.539</td>\n",
       "    </tr>\n",
       "  </tbody>\n",
       "</table>\n",
       "</div>"
      ],
      "text/plain": [
       "                  male  female\n",
       "interest         0.854   0.756\n",
       "ppp              0.764   0.605\n",
       "diversification  0.705   0.539"
      ]
     },
     "execution_count": 7,
     "metadata": {},
     "output_type": "execute_result"
    }
   ],
   "source": [
    "tab = df[qs_c].groupby(df['gender']).mean().transpose().round(3)\n",
    "labels = ['interest','ppp','diversification']\n",
    "tab.index = labels\n",
    "tab.columns = ['male','female']\n",
    "tab"
   ]
  },
  {
   "cell_type": "code",
   "execution_count": 8,
   "metadata": {},
   "outputs": [
    {
     "data": {
      "text/html": [
       "<div>\n",
       "<style scoped>\n",
       "    .dataframe tbody tr th:only-of-type {\n",
       "        vertical-align: middle;\n",
       "    }\n",
       "\n",
       "    .dataframe tbody tr th {\n",
       "        vertical-align: top;\n",
       "    }\n",
       "\n",
       "    .dataframe thead th {\n",
       "        text-align: right;\n",
       "    }\n",
       "</style>\n",
       "<table border=\"1\" class=\"dataframe\">\n",
       "  <thead>\n",
       "    <tr style=\"text-align: right;\">\n",
       "      <th></th>\n",
       "      <th>male</th>\n",
       "      <th>female</th>\n",
       "    </tr>\n",
       "  </thead>\n",
       "  <tbody>\n",
       "    <tr>\n",
       "      <th>interest</th>\n",
       "      <td>0.055</td>\n",
       "      <td>0.101</td>\n",
       "    </tr>\n",
       "    <tr>\n",
       "      <th>ppp</th>\n",
       "      <td>0.090</td>\n",
       "      <td>0.205</td>\n",
       "    </tr>\n",
       "    <tr>\n",
       "      <th>diversification</th>\n",
       "      <td>0.203</td>\n",
       "      <td>0.380</td>\n",
       "    </tr>\n",
       "  </tbody>\n",
       "</table>\n",
       "</div>"
      ],
      "text/plain": [
       "                  male  female\n",
       "interest         0.055   0.101\n",
       "ppp              0.090   0.205\n",
       "diversification  0.203   0.380"
      ]
     },
     "execution_count": 8,
     "metadata": {},
     "output_type": "execute_result"
    }
   ],
   "source": [
    "qs_d = [q+'_dnk' for q in qs]\n",
    "tab = df[qs_d].groupby(df['gender']).mean().transpose().round(3)\n",
    "labels = ['interest','ppp','diversification']\n",
    "tab.index = labels\n",
    "tab.columns = ['male','female']\n",
    "tab"
   ]
  },
  {
   "cell_type": "markdown",
   "metadata": {},
   "source": [
    "We observe that males have a higher fraction of correct answers. But females do not necessarily get the question wrong. Rather they have a higher tendency to report do not know. "
   ]
  },
  {
   "cell_type": "markdown",
   "metadata": {},
   "source": [
    "## Question 5 and 6"
   ]
  },
  {
   "cell_type": "code",
   "execution_count": 9,
   "metadata": {},
   "outputs": [],
   "source": [
    "cond = (df['csa29_correct']==1) & (df['csa30_correct']==1) & (df['csa31_correct']==1)\n",
    "df['big3_correct'] = np.where(cond,1,0)"
   ]
  },
  {
   "cell_type": "code",
   "execution_count": 10,
   "metadata": {},
   "outputs": [
    {
     "data": {
      "text/plain": [
       "NL     0.484140\n",
       "PEI    0.420900\n",
       "NS     0.500000\n",
       "NB     0.426987\n",
       "QC     0.404858\n",
       "ON     0.454545\n",
       "MB     0.485158\n",
       "SK     0.350711\n",
       "AB     0.459336\n",
       "BC     0.511848\n",
       "Name: big3_correct, dtype: float64"
      ]
     },
     "execution_count": 10,
     "metadata": {},
     "output_type": "execute_result"
    }
   ],
   "source": [
    "tab = df['big3_correct'].groupby(df['prov']).mean()\n",
    "tab.index = ['NL','PEI','NS','NB','QC','ON','MB','SK','AB','BC']\n",
    "tab.columns = ['All 3 correct']\n",
    "tab"
   ]
  },
  {
   "cell_type": "markdown",
   "metadata": {},
   "source": [
    "We see that the fraction with all three correct is highest in BC and NS and lowest in SK and QC. There is considerable variation across provinces. Generally, scores are low. "
   ]
  },
  {
   "cell_type": "markdown",
   "metadata": {},
   "source": [
    "## Question 7"
   ]
  },
  {
   "cell_type": "code",
   "execution_count": 11,
   "metadata": {},
   "outputs": [],
   "source": [
    "df['plan'] = np.where(df['csa17']==1,1,0)"
   ]
  },
  {
   "cell_type": "code",
   "execution_count": 12,
   "metadata": {},
   "outputs": [
    {
     "name": "stdout",
     "output_type": "stream",
     "text": [
      "differences by gender\n",
      "gender\n",
      "1    0.360\n",
      "2    0.288\n",
      "Name: plan, dtype: float64\n",
      "differences by age\n",
      "age\n",
      "1    0.183\n",
      "2    0.240\n",
      "3    0.295\n",
      "4    0.312\n",
      "5    0.380\n",
      "6    0.406\n",
      "Name: plan, dtype: float64\n",
      "differences by prov\n",
      "prov\n",
      "1.0     0.317\n",
      "2.0     0.231\n",
      "3.0     0.282\n",
      "4.0     0.235\n",
      "5.0     0.178\n",
      "6.0     0.335\n",
      "7.0     0.332\n",
      "8.0     0.232\n",
      "9.0     0.428\n",
      "10.0    0.265\n",
      "Name: plan, dtype: float64\n"
     ]
    }
   ],
   "source": [
    "vars = ['gender','age','prov']\n",
    "for v in vars:\n",
    "    tab = df['plan'].groupby(df[v]).mean().transpose().round(3)\n",
    "    print('differences by '+v)\n",
    "    print(tab)"
   ]
  },
  {
   "cell_type": "markdown",
   "metadata": {},
   "source": [
    "Yes, there are differences. Males are more likely to have a formal plan. In terms of age, older respondents are more likely to have a plan and differences across provinces are important. For example, less than 17.8% in Quebec have a plan while that fraction is 33.5% in Ontario and 42.8% in Alberta. "
   ]
  },
  {
   "cell_type": "markdown",
   "metadata": {},
   "source": [
    "## Question 8"
   ]
  },
  {
   "cell_type": "code",
   "execution_count": 13,
   "metadata": {},
   "outputs": [
    {
     "data": {
      "text/plain": [
       "incorrect        0.273272\n",
       "all 3 correct    0.386458\n",
       "Name: plan, dtype: float64"
      ]
     },
     "execution_count": 13,
     "metadata": {},
     "output_type": "execute_result"
    }
   ],
   "source": [
    "tab = df['plan'].groupby(df['big3_correct']).mean()\n",
    "tab.index = ['incorrect','all 3 correct']\n",
    "tab"
   ]
  },
  {
   "cell_type": "code",
   "execution_count": 14,
   "metadata": {},
   "outputs": [
    {
     "data": {
      "image/png": "[encoded data removed]",
      "text/plain": [
       "<matplotlib.figure.Figure at 0x11ffb4a90>"
      ]
     },
     "metadata": {},
     "output_type": "display_data"
    }
   ],
   "source": [
    "plt.figure()\n",
    "plt.bar(tab.index,tab.values)\n",
    "plt.ylabel('fraction with a plan')\n",
    "plt.show()\n"
   ]
  },
  {
   "cell_type": "markdown",
   "metadata": {},
   "source": [
    "We see that those who answer correctly tend to have a plan. However, this is a correlation. It is possible that the causality runs the other way. Those who have a plan tend to want to learn more about financial matters. It may also be because they have an advisor or because they have assets that require management (and hence a plan). "
   ]
  },
  {
   "cell_type": "markdown",
   "metadata": {},
   "source": [
    "## Question 9"
   ]
  },
  {
   "cell_type": "markdown",
   "metadata": {},
   "source": [
    "To weight, one needs to apply the numpy average function (which allows for weights) to the dataframe"
   ]
  },
  {
   "cell_type": "code",
   "execution_count": 15,
   "metadata": {},
   "outputs": [
    {
     "name": "stdout",
     "output_type": "stream",
     "text": [
      "differences by gender\n",
      "        weighted  unweighted\n",
      "gender                      \n",
      "1          0.514       0.563\n",
      "2          0.328       0.348\n",
      "differences by age\n",
      "     weighted  unweighted\n",
      "age                      \n",
      "1       0.196       0.205\n",
      "2       0.358       0.357\n",
      "3       0.425       0.421\n",
      "4       0.467       0.469\n",
      "5       0.463       0.536\n",
      "6       0.457       0.557\n",
      "differences by prov\n",
      "      weighted  unweighted\n",
      "prov                      \n",
      "1.0      0.449       0.484\n",
      "2.0      0.417       0.421\n",
      "3.0      0.422       0.500\n",
      "4.0      0.369       0.427\n",
      "5.0      0.375       0.405\n",
      "6.0      0.388       0.455\n",
      "7.0      0.447       0.485\n",
      "8.0      0.333       0.351\n",
      "9.0      0.394       0.459\n",
      "10.0     0.488       0.512\n"
     ]
    }
   ],
   "source": [
    "vars = ['gender','age','prov']\n",
    "for v in vars:\n",
    "    weighted = df.groupby(v).apply(lambda x: np.average(x.big3_correct, weights=x.wc)).transpose().round(3)\n",
    "    unweighted = df.groupby(v).apply(lambda x: np.average(x.big3_correct)).transpose().round(3)\n",
    "    print('differences by '+v)\n",
    "    tab = pd.concat([weighted,unweighted],axis=1)\n",
    "    tab.columns = ['weighted','unweighted']\n",
    "    print(tab)\n",
    "    \n"
   ]
  },
  {
   "cell_type": "markdown",
   "metadata": {},
   "source": [
    "We see that weighting has some impact for males and at older ages. It also has some impact by provinces. "
   ]
  },
  {
   "cell_type": "code",
   "execution_count": null,
   "metadata": {},
   "outputs": [],
   "source": []
  }
 ],
 "metadata": {
  "kernelspec": {
   "display_name": "Python 3",
   "language": "python",
   "name": "python3"
  },
  "language_info": {
   "codemirror_mode": {
    "name": "ipython",
    "version": 3
   },
   "file_extension": ".py",
   "mimetype": "text/x-python",
   "name": "python",
   "nbconvert_exporter": "python",
   "pygments_lexer": "ipython3",
   "version": "3.6.4"
  }
 },
 "nbformat": 4,
 "nbformat_minor": 2
}
