{
 "cells": [
  {
   "cell_type": "markdown",
   "metadata": {},
   "source": [
    "# Solution Assignment 2 2019 (BEF)"
   ]
  },
  {
   "cell_type": "code",
   "execution_count": 38,
   "metadata": {},
   "outputs": [],
   "source": [
    "import numpy as np\n",
    "from scipy.interpolate import interp1d\n",
    "from matplotlib import pyplot as plt\n",
    "import pandas as pd"
   ]
  },
  {
   "cell_type": "markdown",
   "metadata": {},
   "source": [
    "# 1. Preparation"
   ]
  },
  {
   "cell_type": "markdown",
   "metadata": {},
   "source": [
    "## Preferences"
   ]
  },
  {
   "cell_type": "markdown",
   "metadata": {},
   "source": [
    "The agent has $(\\beta,\\delta)$ preferences with CRRA utility ($\\gamma$ is the relative risk aversion coefficient). We take the following values"
   ]
  },
  {
   "cell_type": "code",
   "execution_count": 39,
   "metadata": {},
   "outputs": [],
   "source": [
    "beta = 0.8\n",
    "delta = 0.95\n",
    "gamma = 0.75"
   ]
  },
  {
   "cell_type": "code",
   "execution_count": 40,
   "metadata": {},
   "outputs": [],
   "source": [
    "def u(c,gamma):\n",
    "    if gamma==1.0:\n",
    "        return np.log(c)\n",
    "    else :\n",
    "        return  c**(1.0-gamma)/(1.0-gamma)"
   ]
  },
  {
   "cell_type": "markdown",
   "metadata": {},
   "source": [
    "## Ressources"
   ]
  },
  {
   "cell_type": "markdown",
   "metadata": {},
   "source": [
    "The agent has income which grows and then drops at retirement. He starts making decisions at age 25 (t=0). He lives for 55 years (dies at 80) with retirement at 40 (age 65). He starts off with no wealth. He can make one choice during working years: save in a retirement account a fraction $s$ of his income. Upon retiring, he gets gets annuity income from how much he has accumulated. The employer matches his contributions with 50 cents on the dollar of contribution. He faces a one-time cost of starting contributions, $k$. Once he started, he always saves $s$. "
   ]
  },
  {
   "cell_type": "code",
   "execution_count": 41,
   "metadata": {},
   "outputs": [],
   "source": [
    "R = 1.0/delta\n",
    "r = R-1.0\n",
    "T = 55\n",
    "ret = 40\n",
    "base = 30e3\n",
    "g = 0.01\n",
    "rep = 0.4\n",
    "income = [base*np.exp(g*t) for t in range(T)]\n",
    "for t in range(T):\n",
    "    if (t>=ret):\n",
    "        income[t] = income[ret-1]*rep\n",
    "w0 = 0.0\n",
    "age = [25+t for t in range(T)]\n",
    "nw = 500\n",
    "wmin = 0.0\n",
    "wmax = 5e5\n",
    "gw = np.linspace(wmin,wmax,nw)\n",
    "s = 0.06\n",
    "mu = 0.5\n",
    "k = 2500.0"
   ]
  },
  {
   "cell_type": "markdown",
   "metadata": {},
   "source": [
    "## Solutions"
   ]
  },
  {
   "cell_type": "code",
   "execution_count": 42,
   "metadata": {},
   "outputs": [],
   "source": [
    "def solve_edu(delta,gamma,k,s,mu):\n",
    "    V = np.zeros((nw,ret))\n",
    "    sopt = np.zeros((nw,ret))\n",
    "    for i,w in enumerate(gw):\n",
    "        ann = r/(1.0-R**(ret-T))*w\n",
    "        V[i,ret-1] = np.sum([(delta**q) * u(income[ret+q-1] + ann,gamma) for q in range(T-ret)])\n",
    "        if w==0:\n",
    "            sopt[i,ret-1] = 0.0\n",
    "        else :\n",
    "            sopt[i,ret-1] = 1.0\n",
    "    for t in reversed(range(ret-1)):\n",
    "        Ev = interp1d(gw,V[:,t+1],fill_value='extrapolate')\n",
    "        for i,w in enumerate(gw):\n",
    "            ww = R*(w+s*(1.0+mu)*income[t])\n",
    "            if (w==0.0):\n",
    "                v0 = u(income[t],gamma) + delta * V[0,t+1]\n",
    "                v1 = u(income[t] - s*income[t] - k,gamma) + delta*Ev(ww)\n",
    "                if (v1>v0):\n",
    "                    sopt[i,t] = 1.0\n",
    "                    V[i,t] = v1\n",
    "                else :\n",
    "                    V[i,t] = v0\n",
    "            else :\n",
    "                V[i,t] = u(income[t] - s*income[t],gamma) + delta*Ev(ww)\n",
    "                sopt[i,t] = 1.0\n",
    "    ageopt = 0\n",
    "    for t in range(ret-1):\n",
    "        if (sopt[0,t]==1.0):\n",
    "            ageopt = t\n",
    "            break\n",
    "    return ageopt,V"
   ]
  },
  {
   "cell_type": "code",
   "execution_count": 43,
   "metadata": {},
   "outputs": [],
   "source": [
    "def solve_pbu(beta,delta,gamma,k,s,mu,V):\n",
    "    spb = np.zeros((nw,ret))\n",
    "    for t in reversed(range(ret-1)):\n",
    "        Ev = interp1d(gw,V[:,t+1],fill_value='extrapolate')\n",
    "        for i,w in enumerate(gw):\n",
    "            ww = R*(w+s*(1.0+mu)*income[t])\n",
    "            if (w==0.0):\n",
    "                v0 = u(income[t],gamma) + beta*delta * V[0,t+1]\n",
    "                v1 = u(income[t] - s*income[t] - k,gamma) + beta*delta*Ev(ww)\n",
    "                if (v1>v0):\n",
    "                    spb[i,t] = 1.0\n",
    "            else :\n",
    "                spb[i,t] = 1.0\n",
    "    ageopt = 0\n",
    "    for t in range(ret-1):\n",
    "        if (spb[0,t]==1.0):\n",
    "            ageopt = t\n",
    "            break\n",
    "    return ageopt"
   ]
  },
  {
   "cell_type": "code",
   "execution_count": 44,
   "metadata": {},
   "outputs": [],
   "source": [
    "def welfare(ageopt,k,s,mu):\n",
    "    eu = 0.0\n",
    "    wlth = 0.0\n",
    "    for t in range(T):\n",
    "        if t<ret:\n",
    "            if t<ageopt:\n",
    "                cons = income[t]\n",
    "            elif t==ageopt:\n",
    "                cons = income[t] - s*income[t] - k\n",
    "                wlth = R*(wlth+s*(1.0+mu)*income[t])\n",
    "            else :\n",
    "                cons = income[t] - s*income[t] \n",
    "                wlth = R*(wlth+s*(1.0+mu)*income[t])\n",
    "        else :\n",
    "            ann = r/(1.0-R**(ret-T))*wlth\n",
    "            cons = income[t] + ann\n",
    "        util = u(cons,gamma)\n",
    "        eu += (delta**t)*util\n",
    "    return eu"
   ]
  },
  {
   "cell_type": "code",
   "execution_count": 45,
   "metadata": {},
   "outputs": [],
   "source": [
    "def getwlth(ageopt,s,mu):\n",
    "    wlth = np.zeros(ret)\n",
    "    for t in range(ret):\n",
    "        if t<ageopt:\n",
    "            wlth[t]\n",
    "        if t>=ageopt:\n",
    "            wlth[t] = R*(wlth[t-1]+s*(1.0+mu)*income[t])\n",
    "    return wlth\n",
    "            "
   ]
  },
  {
   "cell_type": "code",
   "execution_count": 46,
   "metadata": {},
   "outputs": [],
   "source": [
    "def incfunc(ret,rep):\n",
    "    income = [base*np.exp(g*t) for t in range(T)]\n",
    "    for t in range(T):\n",
    "        if (t>=ret):\n",
    "            income[t] = income[ret-1]*rep\n",
    "    return income"
   ]
  },
  {
   "cell_type": "code",
   "execution_count": 47,
   "metadata": {},
   "outputs": [],
   "source": [
    "def npv(inc,r):\n",
    "    return np.sum([i*(1.0+r)**(-t) for t,i in enumerate(inc)])"
   ]
  },
  {
   "cell_type": "markdown",
   "metadata": {},
   "source": [
    "# 2. Preliminaries"
   ]
  },
  {
   "cell_type": "markdown",
   "metadata": {},
   "source": [
    "### 2.1 Plot income"
   ]
  },
  {
   "cell_type": "code",
   "execution_count": 48,
   "metadata": {},
   "outputs": [
    {
     "data": {
      "image/png": "[encoded data removed]",
      "text/plain": [
       "<matplotlib.figure.Figure at 0x18261e2fd0>"
      ]
     },
     "metadata": {},
     "output_type": "display_data"
    }
   ],
   "source": [
    "reps = np.linspace(0.0,1.0,6)\n",
    "plt.figure()\n",
    "for rr in reps: \n",
    "    plt.plot(age,incfunc(ret,rr),label=str(np.round(rr,1)))\n",
    "plt.xlabel('age')\n",
    "plt.ylabel('income')\n",
    "plt.legend()\n",
    "plt.show()"
   ]
  },
  {
   "cell_type": "markdown",
   "metadata": {},
   "source": [
    "## 2.2 NPV"
   ]
  },
  {
   "cell_type": "code",
   "execution_count": 49,
   "metadata": {},
   "outputs": [
    {
     "data": {
      "text/plain": [
       "623882.5294051864"
      ]
     },
     "execution_count": 49,
     "metadata": {},
     "output_type": "execute_result"
    }
   ],
   "source": [
    "npv(incfunc(ret,rep),1.0/delta-1.0)"
   ]
  },
  {
   "cell_type": "markdown",
   "metadata": {},
   "source": [
    "## 2.3 Motivation for $k$"
   ]
  },
  {
   "cell_type": "markdown",
   "metadata": {},
   "source": [
    "switching cost. Could be monetary, time or effort. "
   ]
  },
  {
   "cell_type": "markdown",
   "metadata": {},
   "source": [
    "## 2.4 Annuity"
   ]
  },
  {
   "cell_type": "markdown",
   "metadata": {},
   "source": [
    "Use the result for geometric series. "
   ]
  },
  {
   "cell_type": "markdown",
   "metadata": {},
   "source": [
    "## 3. Understanding the EDU model"
   ]
  },
  {
   "cell_type": "markdown",
   "metadata": {},
   "source": [
    "### 3.1 Path of wealth"
   ]
  },
  {
   "cell_type": "code",
   "execution_count": 50,
   "metadata": {},
   "outputs": [
    {
     "data": {
      "image/png": "[encoded data removed]",
      "text/plain": [
       "<matplotlib.figure.Figure at 0x1826370c50>"
      ]
     },
     "metadata": {},
     "output_type": "display_data"
    }
   ],
   "source": [
    "ageopt,V = solve_edu(delta,gamma,k,s,mu)\n",
    "wlth = getwlth(ageopt,s,mu)\n",
    "plt.figure()\n",
    "plt.plot(age[:ret],wlth)\n",
    "plt.xlabel('age')\n",
    "plt.ylabel('wealth')\n",
    "plt.show()"
   ]
  },
  {
   "cell_type": "code",
   "execution_count": 51,
   "metadata": {},
   "outputs": [
    {
     "data": {
      "text/plain": [
       "(4, array([340721.16174343]))"
      ]
     },
     "execution_count": 51,
     "metadata": {},
     "output_type": "execute_result"
    }
   ],
   "source": [
    "ageopt, wlth[-1:]"
   ]
  },
  {
   "cell_type": "markdown",
   "metadata": {},
   "source": [
    "### 3.2 Sensitivity to $\\delta$, $\\gamma$"
   ]
  },
  {
   "cell_type": "code",
   "execution_count": 52,
   "metadata": {},
   "outputs": [
    {
     "data": {
      "image/png": "[encoded data removed]",
      "text/plain": [
       "<matplotlib.figure.Figure at 0x1823eed748>"
      ]
     },
     "metadata": {},
     "output_type": "display_data"
    }
   ],
   "source": [
    "deltas = np.linspace(0.9,1.0,5)\n",
    "wret = []\n",
    "for d in deltas: \n",
    "    ageopt,V = solve_edu(d,gamma,k,s,mu)\n",
    "    wlth = getwlth(ageopt,s,mu)\n",
    "    wret.append(wlth[-1:])\n",
    "plt.figure()\n",
    "plt.plot(deltas,wret)\n",
    "plt.xlabel('$\\delta$')\n",
    "plt.ylabel('wealth at retirement')\n",
    "plt.show()"
   ]
  },
  {
   "cell_type": "code",
   "execution_count": 53,
   "metadata": {},
   "outputs": [
    {
     "data": {
      "image/png": "[encoded data removed]",
      "text/plain": [
       "<matplotlib.figure.Figure at 0x1826714e10>"
      ]
     },
     "metadata": {},
     "output_type": "display_data"
    }
   ],
   "source": [
    "gammas = np.linspace(0.5,2.0,5)\n",
    "wret = []\n",
    "for gg in gammas: \n",
    "    ageopt,V = solve_edu(delta,gg,k,s,mu)\n",
    "    wlth = getwlth(ageopt,s,mu)\n",
    "    wret.append(wlth[-1:])\n",
    "plt.figure()\n",
    "plt.plot(gammas,wret)\n",
    "plt.xlabel('$\\gamma$')\n",
    "plt.ylabel('wealth at retirement')\n",
    "plt.show()"
   ]
  },
  {
   "cell_type": "markdown",
   "metadata": {},
   "source": [
    "### 3.3 variation with $rep$"
   ]
  },
  {
   "cell_type": "code",
   "execution_count": 54,
   "metadata": {},
   "outputs": [
    {
     "data": {
      "image/png": "[encoded data removed]",
      "text/plain": [
       "<matplotlib.figure.Figure at 0x18267635c0>"
      ]
     },
     "metadata": {},
     "output_type": "display_data"
    }
   ],
   "source": [
    "reps = np.linspace(0.2,0.8,5)\n",
    "wret = []\n",
    "pensions = []\n",
    "anns = []\n",
    "for rr in reps: \n",
    "    income = incfunc(ret,rr)\n",
    "    pensions.append(income[ret+1])\n",
    "    ageopt,V = solve_edu(delta,gamma,k,s,mu)\n",
    "    wlth = getwlth(ageopt,s,mu)\n",
    "    ann = r/(1.0-R**(ret-T))*wlth[-1:]\n",
    "    anns.append(r/(1.0-R**(ret-T))*ann[0])\n",
    "    wret.append(wlth[-1:])\n",
    "plt.figure()\n",
    "plt.plot(reps,wret)\n",
    "plt.xlabel('$rep$')\n",
    "plt.ylabel('wealth at retirement')\n",
    "plt.show()"
   ]
  },
  {
   "cell_type": "code",
   "execution_count": 55,
   "metadata": {},
   "outputs": [
    {
     "data": {
      "text/html": [
       "<div>\n",
       "<style scoped>\n",
       "    .dataframe tbody tr th:only-of-type {\n",
       "        vertical-align: middle;\n",
       "    }\n",
       "\n",
       "    .dataframe tbody tr th {\n",
       "        vertical-align: top;\n",
       "    }\n",
       "\n",
       "    .dataframe thead th {\n",
       "        text-align: right;\n",
       "    }\n",
       "</style>\n",
       "<table border=\"1\" class=\"dataframe\">\n",
       "  <thead>\n",
       "    <tr style=\"text-align: right;\">\n",
       "      <th></th>\n",
       "      <th>annuity</th>\n",
       "      <th>pensions</th>\n",
       "    </tr>\n",
       "    <tr>\n",
       "      <th>rep</th>\n",
       "      <th></th>\n",
       "      <th></th>\n",
       "    </tr>\n",
       "  </thead>\n",
       "  <tbody>\n",
       "    <tr>\n",
       "      <th>0.20</th>\n",
       "      <td>3834.920890</td>\n",
       "      <td>8861.884763</td>\n",
       "    </tr>\n",
       "    <tr>\n",
       "      <th>0.35</th>\n",
       "      <td>3455.031339</td>\n",
       "      <td>15508.298336</td>\n",
       "    </tr>\n",
       "    <tr>\n",
       "      <th>0.50</th>\n",
       "      <td>2940.905737</td>\n",
       "      <td>22154.711908</td>\n",
       "    </tr>\n",
       "    <tr>\n",
       "      <th>0.65</th>\n",
       "      <td>2486.682988</td>\n",
       "      <td>28801.125481</td>\n",
       "    </tr>\n",
       "    <tr>\n",
       "      <th>0.80</th>\n",
       "      <td>1962.290508</td>\n",
       "      <td>35447.539053</td>\n",
       "    </tr>\n",
       "  </tbody>\n",
       "</table>\n",
       "</div>"
      ],
      "text/plain": [
       "          annuity      pensions\n",
       "rep                            \n",
       "0.20  3834.920890   8861.884763\n",
       "0.35  3455.031339  15508.298336\n",
       "0.50  2940.905737  22154.711908\n",
       "0.65  2486.682988  28801.125481\n",
       "0.80  1962.290508  35447.539053"
      ]
     },
     "execution_count": 55,
     "metadata": {},
     "output_type": "execute_result"
    }
   ],
   "source": [
    "tab = pd.DataFrame(data={'rep': reps, 'pensions': pensions, 'annuity': anns})\n",
    "tab.set_index('rep')"
   ]
  },
  {
   "cell_type": "markdown",
   "metadata": {},
   "source": [
    "He is off-seting the increase in the pension. Of course, here, nobody pays for the increase in pension. So he does not need to perfectly offset. "
   ]
  },
  {
   "cell_type": "markdown",
   "metadata": {},
   "source": [
    "## 4. Present-Bias"
   ]
  },
  {
   "cell_type": "markdown",
   "metadata": {},
   "source": [
    "### 4.1 Compare EDU and PB"
   ]
  },
  {
   "cell_type": "code",
   "execution_count": 56,
   "metadata": {},
   "outputs": [
    {
     "data": {
      "image/png": "[encoded data removed]",
      "text/plain": [
       "<matplotlib.figure.Figure at 0x18262c8c88>"
      ]
     },
     "metadata": {},
     "output_type": "display_data"
    }
   ],
   "source": [
    "ageopt,V = solve_edu(delta,gamma,k,s,mu)\n",
    "wlth = getwlth(ageopt,s,mu)\n",
    "ageopt_pbu = solve_pbu(beta,delta,gamma,k,s,mu,V)\n",
    "wlth_pbu = getwlth(ageopt_pbu,s,mu)\n",
    "plt.figure()\n",
    "plt.plot(age[:ret],wlth,label='EDU')\n",
    "plt.plot(age[:ret],wlth_pbu,label='EDU')\n",
    "plt.xlabel('age')\n",
    "plt.ylabel('wealth')\n",
    "plt.show()"
   ]
  },
  {
   "cell_type": "markdown",
   "metadata": {},
   "source": [
    "### 4.2 Welfare"
   ]
  },
  {
   "cell_type": "code",
   "execution_count": 59,
   "metadata": {},
   "outputs": [
    {
     "name": "stdout",
     "output_type": "stream",
     "text": [
      "1025.967727835699 1024.8693390069566\n"
     ]
    }
   ],
   "source": [
    "edu = welfare(ageopt,k,s,mu)\n",
    "pbu = welfare(ageopt_pbu,k,s,mu)\n",
    "print(edu,pbu)"
   ]
  },
  {
   "cell_type": "markdown",
   "metadata": {},
   "source": [
    "### 4.3 Wealth when $\\beta$ varies"
   ]
  },
  {
   "cell_type": "code",
   "execution_count": 67,
   "metadata": {},
   "outputs": [
    {
     "data": {
      "image/png": "[encoded data removed]",
      "text/plain": [
       "<matplotlib.figure.Figure at 0x18268a8ba8>"
      ]
     },
     "metadata": {},
     "output_type": "display_data"
    }
   ],
   "source": [
    "betas = np.linspace(0.7,1.0,10)\n",
    "ageopt,V = solve_edu(delta,gamma,k,s,mu)\n",
    "wlth = getwlth(ageopt,s,mu)\n",
    "ratio = []\n",
    "for b in betas: \n",
    "    ageopt_pbu = solve_pbu(b,delta,gamma,k,s,mu,V)  \n",
    "    wlth_pbu = getwlth(ageopt_pbu,s,mu)\n",
    "    ratio.append(wlth_pbu[-1:]/wlth[-1:])\n",
    "plt.figure()\n",
    "plt.plot(betas,ratio)\n",
    "plt.xlabel('$\\\\beta$')\n",
    "plt.ylabel('ratio of PB to EDU wealth')\n",
    "plt.show()"
   ]
  },
  {
   "cell_type": "code",
   "execution_count": null,
   "metadata": {},
   "outputs": [],
   "source": []
  },
  {
   "cell_type": "code",
   "execution_count": null,
   "metadata": {},
   "outputs": [],
   "source": []
  },
  {
   "cell_type": "code",
   "execution_count": null,
   "metadata": {},
   "outputs": [],
   "source": []
  }
 ],
 "metadata": {
  "kernelspec": {
   "display_name": "Python 3",
   "language": "python",
   "name": "python3"
  },
  "language_info": {
   "codemirror_mode": {
    "name": "ipython",
    "version": 3
   },
   "file_extension": ".py",
   "mimetype": "text/x-python",
   "name": "python",
   "nbconvert_exporter": "python",
   "pygments_lexer": "ipython3",
   "version": "3.6.4"
  }
 },
 "nbformat": 4,
 "nbformat_minor": 2
}
