{
 "cells": [
  {
   "cell_type": "markdown",
   "metadata": {},
   "source": [
    "# Context"
   ]
  },
  {
   "cell_type": "code",
   "execution_count": 1,
   "metadata": {},
   "outputs": [],
   "source": [
    "import numpy as np"
   ]
  },
  {
   "cell_type": "markdown",
   "metadata": {},
   "source": [
    "We consider a present-biased model of when individuals start saving for retirement. Crucial to this model is that there is a opt-in cost of starting to save which might be due to status quo bias. The individual is present-biased a la Laibson and is naive about it (thinks next year he will be EDU). We want to measure the optimal time when he will start saving. "
   ]
  },
  {
   "cell_type": "markdown",
   "metadata": {},
   "source": [
    "# Preferences"
   ]
  },
  {
   "cell_type": "markdown",
   "metadata": {},
   "source": [
    "The agent has $(\\beta,\\delta)$ preferences with CRRA utility ($\\gamma$ is the relative risk aversion coefficient). We take the following values"
   ]
  },
  {
   "cell_type": "code",
   "execution_count": 2,
   "metadata": {},
   "outputs": [],
   "source": [
    "beta = 0.8\n",
    "delta = 0.95\n",
    "gamma = 0.75"
   ]
  },
  {
   "cell_type": "code",
   "execution_count": 3,
   "metadata": {},
   "outputs": [],
   "source": [
    "def u(c,gamma):\n",
    "    if gamma==1.0:\n",
    "        return np.log(c)\n",
    "    else :\n",
    "        return  c**(1.0-gamma)/(1.0-gamma)"
   ]
  },
  {
   "cell_type": "markdown",
   "metadata": {},
   "source": [
    "# Ressources"
   ]
  },
  {
   "cell_type": "markdown",
   "metadata": {},
   "source": [
    "The agent has income which grows and then drops at retirement. He lives for 75 years with retirement at 40 (he starts at age 25 implicitely). He starts off with no wealth. He can make one choice during working years: save in a retirement account a fraction $s$ of his income. Upon retiring, he gets gets annuity income from how much he has accumulated. The employer matches his contributions with 50 cents on the dollar of contribution. He faces a one-time cost of starting contributions, $k$. Once he started, he always saves $s$. "
   ]
  },
  {
   "cell_type": "code",
   "execution_count": 4,
   "metadata": {},
   "outputs": [],
   "source": [
    "R = 1.0/delta\n",
    "r = R-1.0\n",
    "T = 55\n",
    "ret = 40\n",
    "base = 30e3\n",
    "g = 0.01\n",
    "rep = 0.4\n",
    "income = [base*np.exp(g*t) for t in range(T)]\n",
    "for t in range(T):\n",
    "    if (t>=ret):\n",
    "        income[t] = income[ret-1]*rep\n",
    "w0 = 0.0\n",
    "age = [25+t for t in range(T)]\n",
    "nw = 500\n",
    "wmin = 0.0\n",
    "wmax = 5e5\n",
    "gw = np.linspace(wmin,wmax,nw)\n",
    "s = 0.06\n",
    "mu = 0.5\n",
    "k = 2500.0"
   ]
  },
  {
   "cell_type": "markdown",
   "metadata": {},
   "source": [
    "# The EDU Case"
   ]
  },
  {
   "cell_type": "markdown",
   "metadata": {},
   "source": [
    "The Bellman equation for the pre-retirement years ($t<t_r$) if $w_t=0$ is $$ V_{t}(0) = max(V^0_{t},V^1_{t}) $$ where $$ V^0_{t} = u(y_t) + \\delta V_{t+1}(0) $$\n",
    "and $$V^1_{t} = u(y_t - sy_t - k) + \\delta V_{t+1}(Rs(1+\\mu y_t))$$\n",
    "\n",
    "while if $w_t>0$, $$ V_{t}(w_t) = u(y_t - sy_t) + \\delta V_{t+1}(R(w_t + s(1+\\mu)y_t)) $$\n",
    "\n",
    "In the retirement years ($t\\ge t_r$), we have\n",
    "$$V_{t}(w_t) = \\sum_{q=0}^{T-t_r} \\delta^q u(y_{t+q} + a(w_t)) $$\n",
    "\n",
    "where $a(w_t)$ is annuity income from retirement savings $w_t$ paid for $T-t_r$ at interest rate $r$. From basic finance calculus we have that $w_t = a(w_t)\\frac{1-R^{-(T-t_r)}}{r}$ which implies that $a(w_t) = \\frac{r}{1-R^{-(T-t_r)}}w_t $.\n",
    "\n"
   ]
  },
  {
   "cell_type": "markdown",
   "metadata": {},
   "source": [
    "## Solution to the EDU Problem"
   ]
  },
  {
   "cell_type": "code",
   "execution_count": null,
   "metadata": {},
   "outputs": [],
   "source": [
    "V = np.zeros((nw,ret))\n",
    "sopt = np.zeros((nw,ret))\n",
    "for i,w in enumerate(gw):\n",
    "    ann = r/(1.0-R**(ret-T))*w\n",
    "    V[i,ret-1] = np.sum([(delta**q) * u(income[ret+q-1] + ann,gamma) for q in range(T-ret)])\n",
    "    if w==0:\n",
    "        sopt[i,ret-1] = 0.0\n",
    "    else :\n",
    "        sopt[i,ret-1] = 1.0"
   ]
  },
  {
   "cell_type": "code",
   "execution_count": null,
   "metadata": {},
   "outputs": [],
   "source": [
    "for t in reversed(range(ret-1)):\n",
    "    Ev = interp1d(gw,V[:,t+1],fill_value='extrapolate')\n",
    "    for i,w in enumerate(gw):\n",
    "        ww = R*(w+s*(1.0+mu)*income[t])\n",
    "        if (w==0.0):\n",
    "            v0 = u(income[t],gamma) + delta * V[0,t+1]\n",
    "            v1 = u(income[t] - s*income[t] - k,gamma) + delta*Ev(ww)\n",
    "            if (v1>v0):\n",
    "                sopt[i,t] = 1.0\n",
    "                V[i,t] = v1\n",
    "            else :\n",
    "                V[i,t] = v0\n",
    "        else :\n",
    "            V[i,t] = u(income[t] - s*income[t],gamma) + delta*Ev(ww)\n",
    "            sopt[i,t] = 1.0\n",
    "            \n",
    "            \n",
    "   "
   ]
  },
  {
   "cell_type": "markdown",
   "metadata": {},
   "source": [
    "# Present-Bias (Naive)"
   ]
  },
  {
   "cell_type": "markdown",
   "metadata": {},
   "source": [
    "With present bias preferences, the agent thinks that he will get $V_{t+1}$ from EDU in the next period. But he discounts at rate $\\beta\\delta$ to make decisions. We implement this here. "
   ]
  },
  {
   "cell_type": "code",
   "execution_count": null,
   "metadata": {},
   "outputs": [],
   "source": [
    "spb = np.zeros((nw,ret))\n",
    "for t in reversed(range(ret-1)):\n",
    "    Ev = interp1d(gw,V[:,t+1],fill_value='extrapolate')\n",
    "    for i,w in enumerate(gw):\n",
    "        ww = R*(w+s*(1.0+mu)*income[t])\n",
    "        if (w==0.0):\n",
    "            v0 = u(income[t],gamma) + beta*delta * V[0,t+1]\n",
    "            v1 = u(income[t] - s*income[t] - k,gamma) + beta*delta*Ev(ww)\n",
    "            if (v1>v0):\n",
    "                spb[i,t] = 1.0\n",
    "        else :\n",
    "            spb[i,t] = 1.0"
   ]
  },
  {
   "cell_type": "markdown",
   "metadata": {},
   "source": [
    "# Comparison of Solutions"
   ]
  },
  {
   "cell_type": "markdown",
   "metadata": {},
   "source": [
    "We can compute solutions by looking at when individuals switch ($s$ goes from 0 to 1)"
   ]
  },
  {
   "cell_type": "code",
   "execution_count": null,
   "metadata": {},
   "outputs": [],
   "source": [
    "plt.figure()\n",
    "plt.plot(age[:ret-1],spb[0,:ret-1],label='present bias')\n",
    "plt.plot(age[:ret-1],sopt[0,:ret-1],label='EDU')\n",
    "plt.xlabel('age')\n",
    "plt.ylabel('probability saves')\n",
    "plt.legend()\n",
    "plt.show()"
   ]
  },
  {
   "cell_type": "markdown",
   "metadata": {},
   "source": [
    "# Encapsulating the solution in a function"
   ]
  },
  {
   "cell_type": "code",
   "execution_count": null,
   "metadata": {},
   "outputs": [],
   "source": [
    "def solve_edu(delta,gamma,k,s,mu):\n",
    "    V = np.zeros((nw,ret))\n",
    "    sopt = np.zeros((nw,ret))\n",
    "    for i,w in enumerate(gw):\n",
    "        ann = r/(1.0-R**(ret-T))*w\n",
    "        V[i,ret-1] = np.sum([(delta**q) * u(income[ret+q-1] + ann,gamma) for q in range(T-ret)])\n",
    "        if w==0:\n",
    "            sopt[i,ret-1] = 0.0\n",
    "        else :\n",
    "            sopt[i,ret-1] = 1.0\n",
    "    for t in reversed(range(ret-1)):\n",
    "        Ev = interp1d(gw,V[:,t+1],fill_value='extrapolate')\n",
    "        for i,w in enumerate(gw):\n",
    "            ww = R*(w+s*(1.0+mu)*income[t])\n",
    "            if (w==0.0):\n",
    "                v0 = u(income[t],gamma) + delta * V[0,t+1]\n",
    "                v1 = u(income[t] - s*income[t] - k,gamma) + delta*Ev(ww)\n",
    "                if (v1>v0):\n",
    "                    sopt[i,t] = 1.0\n",
    "                    V[i,t] = v1\n",
    "                else :\n",
    "                    V[i,t] = v0\n",
    "            else :\n",
    "                V[i,t] = u(income[t] - s*income[t],gamma) + delta*Ev(ww)\n",
    "                sopt[i,t] = 1.0\n",
    "    ageopt = 0\n",
    "    for t in range(ret-1):\n",
    "        if (sopt[0,t]==1.0):\n",
    "            ageopt = t\n",
    "            break\n",
    "    return ageopt,V\n",
    "    "
   ]
  },
  {
   "cell_type": "code",
   "execution_count": null,
   "metadata": {},
   "outputs": [],
   "source": [
    "def solve_pbu(beta,delta,gamma,k,s,mu,V):\n",
    "    spb = np.zeros((nw,ret))\n",
    "    for t in reversed(range(ret-1)):\n",
    "        Ev = interp1d(gw,V[:,t+1],fill_value='extrapolate')\n",
    "        for i,w in enumerate(gw):\n",
    "            ww = R*(w+s*(1.0+mu)*income[t])\n",
    "            if (w==0.0):\n",
    "                v0 = u(income[t],gamma) + beta*delta * V[0,t+1]\n",
    "                v1 = u(income[t] - s*income[t] - k,gamma) + beta*delta*Ev(ww)\n",
    "                if (v1>v0):\n",
    "                    spb[i,t] = 1.0\n",
    "            else :\n",
    "                spb[i,t] = 1.0\n",
    "    ageopt = 0\n",
    "    for t in range(ret-1):\n",
    "        if (spb[0,t]==1.0):\n",
    "            ageopt = t\n",
    "            break\n",
    "    return ageopt"
   ]
  },
  {
   "cell_type": "markdown",
   "metadata": {},
   "source": [
    "# Study of the Variation with Respect to Parameters"
   ]
  },
  {
   "cell_type": "markdown",
   "metadata": {},
   "source": [
    "## Variation with switching cost"
   ]
  },
  {
   "cell_type": "code",
   "execution_count": null,
   "metadata": {},
   "outputs": [],
   "source": [
    "ks = np.linspace(0.0,5000.0,10)\n",
    "optedus = []\n",
    "optpbus = []\n",
    "for ki in ks:\n",
    "    optedu, V = solve_edu(delta,gamma,ki,s,mu) \n",
    "    optedus.append(optedu)\n",
    "    optpbu = solve_pbu(beta,delta,gamma,ki,s,mu,V)\n",
    "    optpbus.append(optpbu)"
   ]
  },
  {
   "cell_type": "code",
   "execution_count": null,
   "metadata": {},
   "outputs": [],
   "source": [
    "plt.figure()\n",
    "plt.plot(ks,optedus,label='EDU')\n",
    "plt.plot(ks,optpbus,label='Present-biased')\n",
    "plt.xlabel('switching cost')\n",
    "plt.ylabel('delay to start saving (in years)')\n",
    "plt.legend()\n",
    "plt.show()"
   ]
  },
  {
   "cell_type": "markdown",
   "metadata": {},
   "source": [
    "## Variation with match rate\n"
   ]
  },
  {
   "cell_type": "code",
   "execution_count": null,
   "metadata": {},
   "outputs": [],
   "source": [
    "mus = np.linspace(0,0.5,10)\n",
    "optedus = []\n",
    "optpbus = []\n",
    "for mui in mus:\n",
    "    optedu, V = solve_edu(delta,gamma,k,s,mui) \n",
    "    optedus.append(optedu)\n",
    "    optpbu = solve_pbu(beta,delta,gamma,k,s,mui,V)\n",
    "    optpbus.append(optpbu)"
   ]
  },
  {
   "cell_type": "code",
   "execution_count": null,
   "metadata": {},
   "outputs": [],
   "source": [
    "plt.figure()\n",
    "plt.plot(mus,optedus,label='EDU')\n",
    "plt.plot(mus,optpbus,label='Present-biased')\n",
    "plt.xlabel('match rate employer')\n",
    "plt.ylabel('delay to start saving (in years)')\n",
    "plt.show()"
   ]
  },
  {
   "cell_type": "code",
   "execution_count": null,
   "metadata": {},
   "outputs": [],
   "source": []
  },
  {
   "cell_type": "code",
   "execution_count": null,
   "metadata": {},
   "outputs": [],
   "source": []
  }
 ],
 "metadata": {
  "kernelspec": {
   "display_name": "Python 3",
   "language": "python",
   "name": "python3"
  },
  "language_info": {
   "codemirror_mode": {
    "name": "ipython",
    "version": 3
   },
   "file_extension": ".py",
   "mimetype": "text/x-python",
   "name": "python",
   "nbconvert_exporter": "python",
   "pygments_lexer": "ipython3",
   "version": "3.6.4"
  }
 },
 "nbformat": 4,
 "nbformat_minor": 2
}
