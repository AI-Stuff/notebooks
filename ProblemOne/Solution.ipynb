{
 "cells": [
  {
   "cell_type": "markdown",
   "metadata": {},
   "source": [
    "$L_1 \\succ L_2$ implies that $$ u(50) > 0.01 u(0) + 0.1 u(250) + 0.89 u(50)$$ or $$ u(50)>\\frac{1}{11}u(0) + \\frac{10}{11}u(250)$$\n",
    "\n",
    "while $L_4 \\succ L_3$ implies that $$ 0.9 u(0) + 0.1 u(250) > 0.11u(50) + 0.89 u(0) $$ or $$ u(50) < \\frac{1}{11} u(0) + \\frac{10}{11}u(250) $$\n",
    "which is a contradiction (there is no $u()$ such that this could be true). "
   ]
  },
  {
   "cell_type": "markdown",
   "metadata": {},
   "source": [
    "# Demand for Insurance"
   ]
  },
  {
   "cell_type": "markdown",
   "metadata": {},
   "source": [
    "## How much coverage\n",
    "\n",
    "Expected utility is $$ EU(q) = p u(w-L - \\pi q + q) + (1-p) u(w-\\pi q) $$\n",
    "\n",
    "He will choose $q$ to maximize $EU(q)$. The FOC is  $$ p u'(w_1)(1-\\pi) - (1-p) u'(w_0)\\pi = 0$$ where $w_1 = w-L-\\pi q + q$ is wealth is the loss state and $w_0 = w- \\pi q$. \n",
    "\n",
    "1. If $\\pi = p$, then FOC becomes $u'(w_1) = u'(w_0)$ which implies $w_1=w_0$ and therefore $q^*=L$. \n",
    "2. If $\\pi>p$, FOC rewritten  $$ \\frac{u'(w_1)}{u'(w_0)} = \\frac{1-p}{p}\\frac{\\pi}{1-\\pi} $$. The RHS is greater than 1 if $\\pi>p$ and therefore since $u'(w_1)>u'(w_0)$ if $w_1<w_0$, $q^*<L$. \n",
    "\n"
   ]
  },
  {
   "cell_type": "markdown",
   "metadata": {},
   "source": [
    "## Numerical exercise"
   ]
  },
  {
   "cell_type": "code",
   "execution_count": 3,
   "metadata": {},
   "outputs": [],
   "source": [
    "import numpy as np\n",
    "from matplotlib import pyplot as plt\n",
    "from scipy.optimize import minimize_scalar"
   ]
  },
  {
   "cell_type": "code",
   "execution_count": 4,
   "metadata": {},
   "outputs": [],
   "source": [
    "gamma = 2\n",
    "wi = 100e3\n",
    "p = 0.05\n",
    "L = 10e3\n",
    "pis = np.linspace(p,1.5*p,10)"
   ]
  },
  {
   "cell_type": "code",
   "execution_count": 5,
   "metadata": {},
   "outputs": [],
   "source": [
    "def crra(wealth,gamma):\n",
    "    if gamma!=1.0:\n",
    "        return wealth**(1.0-gamma)/(1.0-gamma)\n",
    "    else :\n",
    "        return np.log(wealth)\n",
    "def eu(q,wi,p,L,pi,gamma):\n",
    "    # define wealth in both states\n",
    "    w0 = wi - pi*q\n",
    "    w1 = wi - L - pi*q + q\n",
    "    # compute utilities\n",
    "    u0 = crra(w0,gamma)\n",
    "    u1 = crra(w1,gamma)\n",
    "    # expected utility\n",
    "    value = p*u1 + (1.0-p)*u0\n",
    "    return -value"
   ]
  },
  {
   "cell_type": "code",
   "execution_count": 10,
   "metadata": {},
   "outputs": [
    {
     "data": {
      "text/plain": [
       "9999.995917954142"
      ]
     },
     "execution_count": 10,
     "metadata": {},
     "output_type": "execute_result"
    }
   ],
   "source": [
    "opt = minimize_scalar(eu,bounds=(0.0,L),method='bounded',args=(wi,p,L,p,gamma))\n",
    "opt.x"
   ]
  },
  {
   "cell_type": "code",
   "execution_count": 11,
   "metadata": {},
   "outputs": [],
   "source": [
    "qopts = []\n",
    "for pi in pis: \n",
    "    opt = minimize_scalar(eu,bounds=(0.0,L),method='bounded',args=(wi,p,L,pi,gamma))\n",
    "    qopts.append(opt.x)\n"
   ]
  },
  {
   "cell_type": "code",
   "execution_count": 12,
   "metadata": {},
   "outputs": [
    {
     "data": {
      "image/png": "[encoded data removed]",
      "text/plain": [
       "<matplotlib.figure.Figure at 0x10ba4ccf8>"
      ]
     },
     "metadata": {},
     "output_type": "display_data"
    }
   ],
   "source": [
    "plt.figure()\n",
    "plt.plot(pis,qopts)\n",
    "plt.xlabel('premium (per dollar of coverage)')\n",
    "plt.ylabel('insurance coverage')\n",
    "plt.title('optimal insurance coverage')\n",
    "plt.show()"
   ]
  },
  {
   "cell_type": "markdown",
   "metadata": {},
   "source": [
    "Yes, this is the demand curve as a function of price! If there is competition in the market, then $\\pi=p$ and we have full coverage. If the insurer is a monopoly, he can use the demand curve to charge a higher price. But demand is quite elastic. We can compute the elasticity, say at $\\pi=p$. "
   ]
  },
  {
   "cell_type": "code",
   "execution_count": 7,
   "metadata": {},
   "outputs": [
    {
     "data": {
      "text/plain": [
       "-5.037966329746766"
      ]
     },
     "execution_count": 7,
     "metadata": {},
     "output_type": "execute_result"
    }
   ],
   "source": [
    "elast = (qopts[1]/qopts[0]-1.0)/(pis[1]/pis[0]-1.0)\n",
    "elast"
   ]
  },
  {
   "cell_type": "markdown",
   "metadata": {},
   "source": [
    "Let's define a function that does that"
   ]
  },
  {
   "cell_type": "code",
   "execution_count": 8,
   "metadata": {},
   "outputs": [],
   "source": [
    "def elast(wi,p,L,pi,gamma,eps=0.0025):\n",
    "    # at pi\n",
    "    opt = minimize_scalar(eu,bounds=(0.0,L),method='bounded',args=(wi,p,L,pi,gamma))\n",
    "    q0 = opt.x\n",
    "    # at pi + eps\n",
    "    opt = minimize_scalar(eu,bounds=(0.0,L),method='bounded',args=(wi,p,L,pi+eps,gamma))\n",
    "    q1 = opt.x\n",
    "    return (q1/q0-1.0)/(eps/p)\n",
    "    "
   ]
  },
  {
   "cell_type": "code",
   "execution_count": 9,
   "metadata": {},
   "outputs": [
    {
     "data": {
      "text/plain": [
       "-5.057048195661333"
      ]
     },
     "execution_count": 9,
     "metadata": {},
     "output_type": "execute_result"
    }
   ],
   "source": [
    "elast(wi,p,L,p,gamma)"
   ]
  },
  {
   "cell_type": "markdown",
   "metadata": {},
   "source": [
    "Now do this as function of parameters"
   ]
  },
  {
   "cell_type": "code",
   "execution_count": 10,
   "metadata": {},
   "outputs": [
    {
     "data": {
      "image/png": "[encoded data removed]",
      "text/plain": [
       "<matplotlib.figure.Figure at 0x15191e4470>"
      ]
     },
     "metadata": {},
     "output_type": "display_data"
    }
   ],
   "source": [
    "gammas = np.linspace(1.1,5.0,10)\n",
    "etas = [elast(wi,p,L,p,gamma) for gamma in gammas]\n",
    "plt.figure()\n",
    "plt.plot(gammas,etas)\n",
    "plt.xlabel('$\\\\gamma$')\n",
    "plt.ylabel('elasticity')\n",
    "plt.title('Elasticity as function of risk aversion')\n",
    "plt.show()"
   ]
  },
  {
   "cell_type": "code",
   "execution_count": 11,
   "metadata": {},
   "outputs": [
    {
     "data": {
      "image/png": "[encoded data removed]",
      "text/plain": [
       "<matplotlib.figure.Figure at 0x15192845c0>"
      ]
     },
     "metadata": {},
     "output_type": "display_data"
    }
   ],
   "source": [
    "wis = np.linspace(100e3,250e3,10)\n",
    "etas = [elast(wi,p,L,p,gamma) for wi in wis]\n",
    "plt.figure()\n",
    "plt.plot(wis,etas)\n",
    "plt.xlabel('initial wealth')\n",
    "plt.ylabel('elasticity')\n",
    "plt.title('Elasticity as function of initial wealth')\n",
    "plt.show()"
   ]
  },
  {
   "cell_type": "markdown",
   "metadata": {},
   "source": [
    "# Portfolio Problem"
   ]
  },
  {
   "cell_type": "markdown",
   "metadata": {},
   "source": [
    "## Theory"
   ]
  },
  {
   "cell_type": "markdown",
   "metadata": {},
   "source": [
    "Expected utility is given by $$EU(q) = \\int u(w+q \\tilde{z} + (w-q)r)dG $$\n",
    "\n",
    "The FOC of that problem is $$EU'(q^*) = \\int u'(w+q^*\\tilde{z} + (w-q^*)r)(\\tilde{z}-r)dG $$\n",
    "\n",
    "The second order condition is $$EU''(q^*) = \\int u''(w+q^*\\tilde{z} + (w-q^*)r)(\\tilde{z}-r)^2dG<0 $$ for all $w$. Hence, need check if at $q=0$ and $E\\tilde{z} = r$ $EU'(q^*)$ is positive, zero or negative.\n",
    "\n",
    "$$EU'(0) = u'(w(1+r))\\int (\\tilde{z}-r)dG = u'(w(1+r))(E\\tilde{z}-r) = 0 $$\n",
    "\n",
    "Since $EU'(0)=0$ and $EU''(0)<0$, $q^* = 0$. When $E\\tilde{z}>r$, the FOC tells us that $EU'(0)>0$, hence $q^*>0$. "
   ]
  },
  {
   "cell_type": "markdown",
   "metadata": {},
   "source": [
    "## Numerical Exercise"
   ]
  },
  {
   "cell_type": "code",
   "execution_count": 23,
   "metadata": {},
   "outputs": [],
   "source": [
    "ns = 1000\n",
    "sigz = 0.16\n",
    "muz = 0.06\n",
    "r = 0.02\n",
    "wi = 100e3\n",
    "gamma = 2.0\n",
    "eps = np.random.normal(size=ns)"
   ]
  },
  {
   "cell_type": "code",
   "execution_count": 24,
   "metadata": {},
   "outputs": [],
   "source": [
    "def eu(q,gamma,wi,r,muz,sigz,eps):\n",
    "    rz = muz + sigz*eps\n",
    "    eu = np.mean([crra(wi+q*z + (wi-q)*r,gamma) for z in rz])\n",
    "    return -eu\n"
   ]
  },
  {
   "cell_type": "markdown",
   "metadata": {},
   "source": [
    "2) To find out how much he will invest: "
   ]
  },
  {
   "cell_type": "code",
   "execution_count": 25,
   "metadata": {},
   "outputs": [
    {
     "data": {
      "text/plain": [
       "67622.37223209188"
      ]
     },
     "execution_count": 25,
     "metadata": {},
     "output_type": "execute_result"
    }
   ],
   "source": [
    "opt = minimize_scalar(eu,bounds=(0.0,wi),method='bounded',args=(gamma,wi,r,muz,sigz,eps))\n",
    "opt.x"
   ]
  },
  {
   "cell_type": "markdown",
   "metadata": {},
   "source": [
    "He puts most of his wealth in the risky asset. "
   ]
  },
  {
   "cell_type": "markdown",
   "metadata": {},
   "source": [
    "3) To see how that varies with parameters, do something like what is below: "
   ]
  },
  {
   "cell_type": "code",
   "execution_count": 26,
   "metadata": {},
   "outputs": [],
   "source": [
    "qopts = []\n",
    "muzs = np.linspace(0,0.06,10)\n",
    "for muz in muzs: \n",
    "    opt = minimize_scalar(eu,bounds=(0.0,wi),method='bounded',args=(gamma,wi,r,muz,sigz,eps))\n",
    "    qopts.append(opt.x)"
   ]
  },
  {
   "cell_type": "code",
   "execution_count": 27,
   "metadata": {},
   "outputs": [
    {
     "data": {
      "image/png": "[encoded data removed]",
      "text/plain": [
       "<matplotlib.figure.Figure at 0x10cd976a0>"
      ]
     },
     "metadata": {},
     "output_type": "display_data"
    }
   ],
   "source": [
    "plt.figure()\n",
    "plt.plot(muzs-r,qopts)\n",
    "plt.xlabel('equity risk premium')\n",
    "plt.ylabel('investment in stocks')\n",
    "plt.title('Investment in Stocks as Function of Equity Risk Premium')\n",
    "plt.show()"
   ]
  },
  {
   "cell_type": "markdown",
   "metadata": {},
   "source": [
    "4) To back out their risk aversion, we can do it by inverting the function using observed data... We know how to solve for $q$ for a given $\\gamma$. If we know $q$, find the $\\gamma$ such that $q^*$ is equal to the one from data (brothers)"
   ]
  },
  {
   "cell_type": "code",
   "execution_count": 17,
   "metadata": {},
   "outputs": [],
   "source": [
    "def solve(gamma,wi,r,muz,sigz,eps,qdata):\n",
    "    opt = minimize_scalar(eu,bounds=(0.0,wi),method='bounded',args=(gamma,wi,r,muz,sigz,eps))\n",
    "    return  qdata - opt.x\n"
   ]
  },
  {
   "cell_type": "code",
   "execution_count": 18,
   "metadata": {},
   "outputs": [],
   "source": [
    "from scipy.optimize import brentq\n",
    "sigz = 0.16\n",
    "muz = 0.06\n",
    "r = 0.02\n",
    "wi = 100e3\n",
    "gamma = 2.0\n",
    "brothers = [0.25,0.5,0.75]\n",
    "gammas = []\n",
    "for bro in brothers: \n",
    "    gammas.append(brentq(solve,0.1,10.0,args=(wi,r,muz,sigz,eps,bro*wi)))\n",
    "    "
   ]
  },
  {
   "cell_type": "code",
   "execution_count": 19,
   "metadata": {},
   "outputs": [
    {
     "name": "stdout",
     "output_type": "stream",
     "text": [
      "0.25 6.798461262368355\n",
      "0.5 3.3910270812876973\n",
      "0.75 2.247304634651713\n"
     ]
    }
   ],
   "source": [
    "for b,g in zip(brothers,gammas):\n",
    "    print(b,g) "
   ]
  },
  {
   "cell_type": "code",
   "execution_count": 20,
   "metadata": {},
   "outputs": [
    {
     "data": {
      "text/plain": [
       "[6.798461262368355, 3.3910270812876973, 2.247304634651713]"
      ]
     },
     "execution_count": 20,
     "metadata": {},
     "output_type": "execute_result"
    }
   ],
   "source": [
    "gammas"
   ]
  },
  {
   "cell_type": "markdown",
   "metadata": {},
   "source": [
    "These are the relative risk aversion coefficients needed to rationalize their behavior. You have just done method of moment estimation without knowing it..."
   ]
  }
 ],
 "metadata": {
  "kernelspec": {
   "display_name": "Python 3",
   "language": "python",
   "name": "python3"
  },
  "language_info": {
   "codemirror_mode": {
    "name": "ipython",
    "version": 3
   },
   "file_extension": ".py",
   "mimetype": "text/x-python",
   "name": "python",
   "nbconvert_exporter": "python",
   "pygments_lexer": "ipython3",
   "version": "3.6.4"
  }
 },
 "nbformat": 4,
 "nbformat_minor": 2
}
