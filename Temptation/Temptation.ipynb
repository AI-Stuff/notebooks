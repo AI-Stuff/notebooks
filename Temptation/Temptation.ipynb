{
 "cells": [
  {
   "cell_type": "code",
   "execution_count": 17,
   "metadata": {},
   "outputs": [],
   "source": [
    "gamma = 2.0\n",
    "delta = 0.95\n",
    "psi = 0.5\n",
    "R = 1.0/delta\n",
    "income = 1.0"
   ]
  },
  {
   "cell_type": "code",
   "execution_count": null,
   "metadata": {},
   "outputs": [],
   "source": [
    "def u(c,gamma):\n",
    "    util = -np.inf*np.ones(np.ma.size(c,0))\n",
    "    if gamma==1.0:\n",
    "        util[c>0] = np.log(c[c>0])\n",
    "    else :\n",
    "        util[c>0] = c[c>0]**(1.0-gamma)/(1.0-gamma)\n",
    "    return util"
   ]
  },
  {
   "cell_type": "code",
   "execution_count": null,
   "metadata": {},
   "outputs": [],
   "source": [
    "def temp(c,gamma,psi):\n",
    "    return psi*u(c,gamma)"
   ]
  },
  {
   "cell_type": "markdown",
   "metadata": {},
   "source": [
    "# Set up space for solution"
   ]
  },
  {
   "cell_type": "markdown",
   "metadata": {},
   "source": [
    "## Grid for wealth"
   ]
  },
  {
   "cell_type": "code",
   "execution_count": 48,
   "metadata": {},
   "outputs": [],
   "source": [
    "nw = 100\n",
    "wmin = 0.0\n",
    "wmax = 20.0\n",
    "gw = np.linspace(wmin,wmax,nw)"
   ]
  },
  {
   "cell_type": "markdown",
   "metadata": {},
   "source": [
    "## Grid for shock"
   ]
  },
  {
   "cell_type": "code",
   "execution_count": 49,
   "metadata": {},
   "outputs": [
    {
     "data": {
      "text/plain": [
       "array([[7.21444004e-01, 2.75313342e-01, 3.24205876e-03, 5.95223165e-07,\n",
       "        1.35247369e-12, 0.00000000e+00, 0.00000000e+00, 0.00000000e+00,\n",
       "        0.00000000e+00, 0.00000000e+00],\n",
       "       [7.47706773e-02, 6.81353307e-01, 2.41540825e-01, 2.33484509e-03,\n",
       "        3.45327530e-07, 6.28275210e-13, 0.00000000e+00, 0.00000000e+00,\n",
       "        0.00000000e+00, 0.00000000e+00],\n",
       "       [2.60769038e-04, 9.07754211e-02, 6.97293989e-01, 2.10005749e-01,\n",
       "        1.66387401e-03, 1.98151384e-07, 2.88546964e-13, 0.00000000e+00,\n",
       "        0.00000000e+00, 0.00000000e+00],\n",
       "       [1.92352106e-08, 3.85913989e-04, 1.09403413e-01, 7.08111115e-01,\n",
       "        1.80926176e-01, 1.17325032e-03, 1.12453215e-07, 1.31117339e-13,\n",
       "        0.00000000e+00, 0.00000000e+00],\n",
       "       [2.61545193e-14, 3.50369813e-08, 5.65054859e-04, 1.30600748e-01,\n",
       "        7.13577372e-01, 1.54438163e-01, 8.18563769e-04, 6.31175473e-08,\n",
       "        5.88418203e-14, 0.00000000e+00],\n",
       "       [6.22031730e-22, 5.88833073e-14, 6.31175472e-08, 8.18563769e-04,\n",
       "        1.54438163e-01, 7.13577372e-01, 1.30600748e-01, 5.65054859e-04,\n",
       "        3.50369812e-08, 2.62012634e-14],\n",
       "       [2.52446109e-31, 1.73408642e-21, 1.31090071e-13, 1.12453215e-07,\n",
       "        1.17325032e-03, 1.80926176e-01, 7.08111115e-01, 1.09403413e-01,\n",
       "        3.85913989e-04, 1.92352105e-08],\n",
       "       [1.72501003e-42, 8.72263884e-31, 4.78004240e-21, 2.88590291e-13,\n",
       "        1.98151384e-07, 1.66387401e-03, 2.10005749e-01, 6.97293989e-01,\n",
       "        9.07754211e-02, 2.60769038e-04],\n",
       "       [1.96873596e-55, 7.39139827e-42, 2.97998341e-30, 1.30285684e-20,\n",
       "        6.28246679e-13, 3.45327530e-07, 2.33484509e-03, 2.41540825e-01,\n",
       "        6.81353307e-01, 7.47706773e-02],\n",
       "       [3.73337896e-70, 1.04646554e-54, 3.13140071e-41, 1.00662381e-29,\n",
       "        3.51129030e-20, 1.35243872e-12, 5.95223165e-07, 3.24205876e-03,\n",
       "        2.75313342e-01, 7.21444004e-01]])"
      ]
     },
     "execution_count": 49,
     "metadata": {},
     "output_type": "execute_result"
    }
   ],
   "source": [
    "nshock = 10\n",
    "proc = qe.tauchen(0.95,0.03,3,nshock)\n",
    "pshock = proc.P\n",
    "shock = proc._state_values\n",
    "pshock"
   ]
  },
  {
   "cell_type": "markdown",
   "metadata": {},
   "source": [
    "# Solution"
   ]
  },
  {
   "cell_type": "code",
   "execution_count": 50,
   "metadata": {},
   "outputs": [],
   "source": [
    "V = np.zeros((nw,nshock))\n",
    "Vprime = np.zeros((nw,nshock))\n",
    "copt = np.zeros((nw,nshock))\n",
    "cprime = np.zeros((nw,nshock))\n",
    "y = np.mean(income)\n",
    "iter = 0\n",
    "criterion = 10.0\n",
    "while (criterion>1e-8) & (iter<100):\n",
    "    for e in range(nshock):\n",
    "        cash = gw + y*np.exp(shock[e])\n",
    "        vs = temp(cash,gamma,psi)\n",
    "        for i in range(nw):\n",
    "            cons = cash[i] - gw/R\n",
    "            now = u(cons,gamma)\n",
    "            ev = np.zeros(nw)\n",
    "            for ee in range(nshock):\n",
    "                    ev += pshock[e,ee]*V[:,ee]\n",
    "            vp = now + delta*ev \n",
    "            j = np.argmax(vp)\n",
    "            Vprime[i,e] = vp[j] - vs[i]\n",
    "            cprime[i,e] = cons[j] \n",
    "    criterion = np.max(np.abs(cprime-copt))\n",
    "    V[:,:] = np.copy(Vprime)\n",
    "    copt[:,:] = np.copy(cprime)\n",
    "    iter +=1  "
   ]
  },
  {
   "cell_type": "code",
   "execution_count": 51,
   "metadata": {},
   "outputs": [
    {
     "data": {
      "text/plain": [
       "15"
      ]
     },
     "execution_count": 51,
     "metadata": {},
     "output_type": "execute_result"
    }
   ],
   "source": [
    "iter"
   ]
  },
  {
   "cell_type": "code",
   "execution_count": 53,
   "metadata": {},
   "outputs": [
    {
     "data": {
      "image/png": "[encoded data removed]",
      "text/plain": [
       "<matplotlib.figure.Figure at 0x1827e21d68>"
      ]
     },
     "metadata": {},
     "output_type": "display_data"
    }
   ],
   "source": [
    "plt.figure()\n",
    "plt.plot(gw,copt[:,0],label='low income')\n",
    "plt.plot(gw,copt[:,nshock-1],label='high income')\n",
    "plt.xlabel('wealth')\n",
    "plt.ylim([0,10.0])\n",
    "plt.ylabel('consumption')\n",
    "plt.legend()\n",
    "plt.show()"
   ]
  },
  {
   "cell_type": "code",
   "execution_count": 54,
   "metadata": {},
   "outputs": [],
   "source": [
    "def solve(gamma,psi):\n",
    "    V = np.zeros((nw,nshock))\n",
    "    Vprime = np.zeros((nw,nshock))\n",
    "    copt = np.zeros((nw,nshock))\n",
    "    cprime = np.zeros((nw,nshock))\n",
    "    y = np.mean(income)\n",
    "    iter = 0\n",
    "    criterion = 10.0\n",
    "    while criterion>1e-8:\n",
    "        for e in range(nshock):\n",
    "            cash = gw + y*np.exp(shock[e])\n",
    "            vs = temp(cash,gamma,psi)\n",
    "            for i in range(nw):\n",
    "                cons = cash[i] - gw/R\n",
    "                now = u(cons,gamma)\n",
    "                ev = np.zeros(nw)\n",
    "                for ee in range(nshock):\n",
    "                        ev += pshock[e,ee]*V[:,ee]\n",
    "                vp = now + delta*ev \n",
    "                j = np.argmax(vp)\n",
    "                Vprime[i,e] = vp[j] - vs[i]\n",
    "                cprime[i,e] = cons[j] \n",
    "        criterion = np.max(np.abs(cprime-copt))\n",
    "        V[:,:] = Vprime[:,:]\n",
    "        copt[:,:] = cprime[:,:]\n",
    "        iter +=1 \n",
    "    return copt"
   ]
  },
  {
   "cell_type": "code",
   "execution_count": 56,
   "metadata": {},
   "outputs": [
    {
     "data": {
      "image/png": "[encoded data removed]",
      "text/plain": [
       "<matplotlib.figure.Figure at 0x1827f7e278>"
      ]
     },
     "metadata": {},
     "output_type": "display_data"
    }
   ],
   "source": [
    "psis = np.linspace(0.0,0.6,5)\n",
    "plt.figure()\n",
    "for psi in psis: \n",
    "    copt = solve(gamma,psi)\n",
    "    plt.plot(gw,copt[:,5],label=str(np.round(psi,1)))\n",
    "plt.xlabel('wealth')\n",
    "plt.ylabel('optimal consumption')\n",
    "plt.ylim([0,10.0])\n",
    "plt.legend()\n",
    "plt.show()"
   ]
  },
  {
   "cell_type": "code",
   "execution_count": null,
   "metadata": {},
   "outputs": [],
   "source": []
  },
  {
   "cell_type": "code",
   "execution_count": null,
   "metadata": {},
   "outputs": [],
   "source": []
  }
 ],
 "metadata": {
  "kernelspec": {
   "display_name": "Python 3",
   "language": "python",
   "name": "python3"
  },
  "language_info": {
   "codemirror_mode": {
    "name": "ipython",
    "version": 3
   },
   "file_extension": ".py",
   "mimetype": "text/x-python",
   "name": "python",
   "nbconvert_exporter": "python",
   "pygments_lexer": "ipython3",
   "version": "3.6.4"
  }
 },
 "nbformat": 4,
 "nbformat_minor": 2
}
